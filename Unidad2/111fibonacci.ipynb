{
 "cells": [
  {
   "cell_type": "markdown",
   "metadata": {},
   "source": [
    "# Dynamic Programming\n",
    "\n",
    "## Fibonacci"
   ]
  },
  {
   "cell_type": "code",
   "execution_count": 7,
   "metadata": {},
   "outputs": [
    {
     "name": "stdout",
     "output_type": "stream",
     "text": [
      "Fibonacci de 10 es 55\n",
      "Iteraciones: 177\n"
     ]
    }
   ],
   "source": [
    "cont = [0]\n",
    "def fiboR(n):\n",
    "    cont[0] += 1\n",
    "    if n <= 1:\n",
    "        return n\n",
    "    else:\n",
    "        return fiboR(n - 1) + fiboR(n - 2)\n",
    "    \n",
    "n = 10\n",
    "print(\"Fibonacci de %d es %d\"%(n, fiboR(n)))\n",
    "print(\"Iteraciones: %d\"%(cont[0]))"
   ]
  },
  {
   "cell_type": "code",
   "execution_count": 6,
   "metadata": {},
   "outputs": [
    {
     "name": "stdout",
     "output_type": "stream",
     "text": [
      "Fibonacci de 10 es 55\n",
      "Iteraciones: 10\n"
     ]
    }
   ],
   "source": [
    "cont = [0]\n",
    "def fibo(n):\n",
    "    t = [0]*(n+1)\n",
    "    def fibofibo(n):\n",
    "        cont[0] += 1\n",
    "        if n == 1:\n",
    "            t[0] = 0\n",
    "            t[1] = 1\n",
    "        else:\n",
    "            fibofibo(n - 1)\n",
    "            t[n] = t[n-1] + t[n-2]\n",
    "    \n",
    "    fibofibo(n)\n",
    "        \n",
    "    return t[n]\n",
    "    \n",
    "n = 10\n",
    "print(\"Fibonacci de %d es %d\"%(n, fibo(n)))\n",
    "print(\"Iteraciones: %d\"%(cont[0]))"
   ]
  },
  {
   "cell_type": "markdown",
   "metadata": {},
   "source": [
    "## Coin master 2000"
   ]
  },
  {
   "cell_type": "code",
   "execution_count": 24,
   "metadata": {},
   "outputs": [],
   "source": [
    "import math"
   ]
  },
  {
   "cell_type": "code",
   "execution_count": 25,
   "metadata": {},
   "outputs": [],
   "source": [
    "def mincoins(d, p):\n",
    "    C = [0]*(p + 1)\n",
    "    M = [0]*(p + 1)\n",
    "    \n",
    "    def recu(p):\n",
    "        if p == 0:\n",
    "            C[0] = 0\n",
    "        else:\n",
    "            recu(p - 1)\n",
    "            Cother = []\n",
    "            minimum = math.inf\n",
    "            moneda = 0\n",
    "            for di in d:\n",
    "                if p - di >= 0 and C[p-di] < minimum:\n",
    "                    minimum = C[p-di]\n",
    "                    moneda = di\n",
    "        \n",
    "            C[p] = 1 + minimum\n",
    "            M[p] = moneda\n",
    "            \n",
    "    recu(p)\n",
    "    return C, M"
   ]
  },
  {
   "cell_type": "code",
   "execution_count": 26,
   "metadata": {},
   "outputs": [
    {
     "name": "stdout",
     "output_type": "stream",
     "text": [
      "[0, 1, 2, 3, 4, 1, 2, 3, 4, 5, 1, 2, 3, 4, 5, 2, 3, 4, 5, 6, 1, 2, 3, 4, 5, 1, 2, 3, 4, 5, 2, 3, 4, 5, 6, 2, 3, 4, 5, 6, 2]\n",
      "[0, 1, 1, 1, 1, 5, 1, 1, 1, 1, 10, 1, 1, 1, 1, 5, 1, 1, 1, 1, 20, 1, 1, 1, 1, 25, 1, 1, 1, 1, 5, 1, 1, 1, 1, 10, 1, 1, 1, 1, 20]\n"
     ]
    }
   ],
   "source": [
    "d = [1, 5, 10, 20, 25, 50]\n",
    "p = 40\n",
    "C, M = mincoins(d, p)\n",
    "print(C)\n",
    "print(M)"
   ]
  },
  {
   "cell_type": "code",
   "execution_count": null,
   "metadata": {},
   "outputs": [],
   "source": []
  }
 ],
 "metadata": {
  "kernelspec": {
   "display_name": "Python 3",
   "language": "python",
   "name": "python3"
  },
  "language_info": {
   "codemirror_mode": {
    "name": "ipython",
    "version": 3
   },
   "file_extension": ".py",
   "mimetype": "text/x-python",
   "name": "python",
   "nbconvert_exporter": "python",
   "pygments_lexer": "ipython3",
   "version": "3.7.4"
  }
 },
 "nbformat": 4,
 "nbformat_minor": 4
}
