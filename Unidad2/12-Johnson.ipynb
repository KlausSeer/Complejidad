{
 "cells": [
  {
   "cell_type": "markdown",
   "metadata": {},
   "source": [
    "# Johnson"
   ]
  },
  {
   "cell_type": "code",
   "execution_count": 1,
   "metadata": {},
   "outputs": [],
   "source": [
    "import math\n",
    "import heapq as hq"
   ]
  },
  {
   "cell_type": "code",
   "execution_count": 2,
   "metadata": {},
   "outputs": [],
   "source": [
    "def bellmanFord(G, s):\n",
    "    n = len(G)\n",
    "    d = [math.inf]*n\n",
    "    d[s] = s\n",
    "    for _ in range(n-1):\n",
    "        for u in range(n):\n",
    "            for v, w in G[u]:\n",
    "                dist = d[u] + w\n",
    "                if dist < d[v]:\n",
    "                    d[v] = dist\n",
    "\n",
    "    return d"
   ]
  },
  {
   "cell_type": "code",
   "execution_count": 3,
   "metadata": {},
   "outputs": [],
   "source": [
    "def dijkstra(G, s):\n",
    "    n = len(G)\n",
    "    visited = [False]*n\n",
    "    dist = [math.inf]*n\n",
    "    path = [None]*n\n",
    "    queue = []\n",
    "    hq.heappush(queue, (0, s))\n",
    "    while len(queue) > 0:\n",
    "        g, u = hq.heappop(queue)\n",
    "        if not visited[u]:\n",
    "            visited[u] = True\n",
    "            for v, w in G[u]:\n",
    "                f = w + g\n",
    "                if not visited[v] and f < dist[v]:\n",
    "                    dist[v] = f\n",
    "                    path[v] = u\n",
    "                    hq.heappush(queue, (f, v))\n",
    "                    \n",
    "    return dist, path"
   ]
  },
  {
   "cell_type": "code",
   "execution_count": 4,
   "metadata": {},
   "outputs": [],
   "source": [
    "def johnson(G):\n",
    "    n = len(G)\n",
    "    G.append([(n-1, 0)])\n",
    "    p = bellmanFord(G, n) # n es el vertice que acabamos de agregar\n",
    "    Gp = [[] for _ in range(n)]\n",
    "    \n",
    "    for u in range(n):\n",
    "        for v, Ce in G[u]:\n",
    "            Gp[u].append((v, Ce + p[u] - p[v]))\n",
    "    \n",
    "    paths = [[] for _ in range(n)]\n",
    "    for u in range(n):\n",
    "        _, paths[u] = dijkstra(Gp, u)\n",
    "        \n",
    "    return paths"
   ]
  },
  {
   "cell_type": "code",
   "execution_count": 5,
   "metadata": {},
   "outputs": [],
   "source": [
    "G = [[(3, 2)],\n",
    "     [(0, 6), (2, 3)],\n",
    "     [(0, 4), (3, 5)],\n",
    "     [(1, -7), (2, -3)]]"
   ]
  },
  {
   "cell_type": "code",
   "execution_count": 6,
   "metadata": {},
   "outputs": [
    {
     "data": {
      "text/plain": [
       "[[None, 3, 1, 0], [1, None, 1, 0], [2, 3, None, 2], [1, 3, 1, None]]"
      ]
     },
     "execution_count": 6,
     "metadata": {},
     "output_type": "execute_result"
    }
   ],
   "source": [
    "johnson(G)"
   ]
  },
  {
   "cell_type": "code",
   "execution_count": null,
   "metadata": {},
   "outputs": [],
   "source": []
  }
 ],
 "metadata": {
  "kernelspec": {
   "display_name": "Python 3",
   "language": "python",
   "name": "python3"
  },
  "language_info": {
   "codemirror_mode": {
    "name": "ipython",
    "version": 3
   },
   "file_extension": ".py",
   "mimetype": "text/x-python",
   "name": "python",
   "nbconvert_exporter": "python",
   "pygments_lexer": "ipython3",
   "version": "3.7.4"
  }
 },
 "nbformat": 4,
 "nbformat_minor": 4
}
