{
 "cells": [
  {
   "cell_type": "markdown",
   "metadata": {},
   "source": [
    "# DLS"
   ]
  },
  {
   "cell_type": "code",
   "execution_count": null,
   "metadata": {},
   "outputs": [],
   "source": [
    "def dls(G, s, t, limit):\n",
    "    n = len(G)\n",
    "    path = [None]*n\n",
    "    visited = [False]*n\n",
    "    \n",
    "    def dfs(G, u, limit):\n",
    "        if limit == 0 or u == t:\n",
    "            return\n",
    "        if not visited[u]:\n",
    "            visited[u] = True\n",
    "            for v in G[u]:\n",
    "                if not visited[v]:\n",
    "                    path[v] = u\n",
    "                    dfs(G, v, limit - 1)\n",
    "                \n",
    "    dfs(G, s, t, limit)\n",
    "    return path, visited[t]"
   ]
  },
  {
   "cell_type": "markdown",
   "metadata": {},
   "source": [
    "# IDS"
   ]
  },
  {
   "cell_type": "code",
   "execution_count": null,
   "metadata": {},
   "outputs": [],
   "source": [
    "def ids(G, s, t):\n",
    "    limit = 0\n",
    "    while True:\n",
    "        path, found = dls(G, s, t, limit)\n",
    "        if found:\n",
    "            return path\n",
    "        limit += 1"
   ]
  }
 ],
 "metadata": {
  "kernelspec": {
   "display_name": "Python 3",
   "language": "python",
   "name": "python3"
  },
  "language_info": {
   "codemirror_mode": {
    "name": "ipython",
    "version": 3
   },
   "file_extension": ".py",
   "mimetype": "text/x-python",
   "name": "python",
   "nbconvert_exporter": "python",
   "pygments_lexer": "ipython3",
   "version": "3.7.4"
  }
 },
 "nbformat": 4,
 "nbformat_minor": 4
}
