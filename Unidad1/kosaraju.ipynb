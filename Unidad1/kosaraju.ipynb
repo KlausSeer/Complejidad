{
 "cells": [
  {
   "cell_type": "markdown",
   "metadata": {},
   "source": [
    "# Strongly connected components"
   ]
  },
  {
   "cell_type": "code",
   "execution_count": 8,
   "metadata": {},
   "outputs": [],
   "source": [
    "import heapq as hq\n",
    "\n",
    "def kosaraju(G):\n",
    "    n = len(G)\n",
    "    \n",
    "    # 1. grafo reverso\n",
    "    Grev = [[] for _ in range(n)]\n",
    "    for u in range(n):\n",
    "        for v in G[u]:\n",
    "            Grev[v].append(u)\n",
    "            \n",
    "    # 2. dfs para encontrar F\n",
    "    d = [None]*n\n",
    "    f = []\n",
    "    cc = [0]\n",
    "    \n",
    "    def dfs1(u):\n",
    "        cc[0] += 1\n",
    "        d[u] = cc[0]\n",
    "        for v in Grev[u]:\n",
    "            if d[v] == None:\n",
    "                dfs1(v)\n",
    "        cc[0] += 1\n",
    "        hq.heappush(f, (-cc[0], u))\n",
    "        \n",
    "    for u in range(n):\n",
    "        if d[u] == None:\n",
    "            dfs1(u)\n",
    "            \n",
    "    # 3. dfs para los scc\n",
    "    visited = [False]*n\n",
    "    scc = []\n",
    "    \n",
    "    def dfs2(u, comps):\n",
    "        visited[u] = True\n",
    "        for v in G[u]:\n",
    "            if not visited[v]:\n",
    "                dfs2(v, comps)\n",
    "        comps.append(u)\n",
    "        \n",
    "    while len(f) > 0:\n",
    "        _, u = hq.heappop(f)\n",
    "        if not visited[u]:\n",
    "            comps = []\n",
    "            dfs2(u, comps)\n",
    "            scc.append(comps)\n",
    "    \n",
    "    return scc"
   ]
  },
  {
   "cell_type": "code",
   "execution_count": 9,
   "metadata": {},
   "outputs": [],
   "source": [
    "G = [[2, 4],\n",
    "     [0, 2],\n",
    "     [4, 5],\n",
    "     [5, 7],\n",
    "     [],\n",
    "     [1, 7],\n",
    "     [2, 4, 5],\n",
    "     [6],]"
   ]
  },
  {
   "cell_type": "code",
   "execution_count": 10,
   "metadata": {},
   "outputs": [
    {
     "data": {
      "text/plain": [
       "[[4], [1, 6, 7, 5, 2, 0], [3]]"
      ]
     },
     "execution_count": 10,
     "metadata": {},
     "output_type": "execute_result"
    }
   ],
   "source": [
    "kosaraju(G)"
   ]
  },
  {
   "cell_type": "code",
   "execution_count": 13,
   "metadata": {},
   "outputs": [],
   "source": [
    "G = [[2],\n",
    "     [0],\n",
    "     [1, 6],\n",
    "     [],\n",
    "     [6],\n",
    "     [3, 7],\n",
    "     [5],\n",
    "     [],]"
   ]
  },
  {
   "cell_type": "code",
   "execution_count": 14,
   "metadata": {},
   "outputs": [
    {
     "data": {
      "text/plain": [
       "[[7], [3], [5], [6], [4], [1, 2, 0]]"
      ]
     },
     "execution_count": 14,
     "metadata": {},
     "output_type": "execute_result"
    }
   ],
   "source": [
    "kosaraju(G)"
   ]
  },
  {
   "cell_type": "code",
   "execution_count": null,
   "metadata": {},
   "outputs": [],
   "source": []
  }
 ],
 "metadata": {
  "kernelspec": {
   "display_name": "Python 3",
   "language": "python",
   "name": "python3"
  },
  "language_info": {
   "codemirror_mode": {
    "name": "ipython",
    "version": 3
   },
   "file_extension": ".py",
   "mimetype": "text/x-python",
   "name": "python",
   "nbconvert_exporter": "python",
   "pygments_lexer": "ipython3",
   "version": "3.6.8"
  }
 },
 "nbformat": 4,
 "nbformat_minor": 2
}
