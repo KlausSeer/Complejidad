{
 "cells": [
  {
   "cell_type": "code",
   "execution_count": 1,
   "metadata": {},
   "outputs": [],
   "source": [
    "def draw(board):\n",
    "    n = len(board)\n",
    "    print(\"%s+\"%(\"+---\"*n))\n",
    "    for i in range(n):\n",
    "        for j in range(n):\n",
    "            if board[i] == j:\n",
    "                print(\"| Q \", end=\"\")\n",
    "            else:\n",
    "                print(\"|   \", end=\"\")\n",
    "        print(\"|\")\n",
    "        print(\"%s+\"%(\"+---\"*n))"
   ]
  },
  {
   "cell_type": "code",
   "execution_count": 2,
   "metadata": {},
   "outputs": [
    {
     "name": "stdout",
     "output_type": "stream",
     "text": [
      "+---+---+---+---+\n",
      "|   | Q |   |   |\n",
      "+---+---+---+---+\n",
      "|   |   |   | Q |\n",
      "+---+---+---+---+\n",
      "| Q |   |   |   |\n",
      "+---+---+---+---+\n",
      "|   |   |   |   |\n",
      "+---+---+---+---+\n"
     ]
    }
   ],
   "source": [
    "draw([1, 3, 0, -1])"
   ]
  },
  {
   "cell_type": "code",
   "execution_count": 3,
   "metadata": {},
   "outputs": [],
   "source": [
    "def check(board, row, col):\n",
    "    n = len(board)\n",
    "    for i in range(row):\n",
    "        if board[i] == col:\n",
    "            return False\n",
    "        d = row - i\n",
    "        if board[i] + d == col:\n",
    "            return False\n",
    "        if board[i] - d == col:\n",
    "            return False\n",
    "    return True"
   ]
  },
  {
   "cell_type": "code",
   "execution_count": 4,
   "metadata": {},
   "outputs": [],
   "source": [
    "def nqueens(board, row):\n",
    "    n = len(board)\n",
    "    if row < n:\n",
    "        for col in range(n):\n",
    "            if check(board, row, col):\n",
    "                board[row] = col\n",
    "                nqueens(board, row + 1)\n",
    "    else:\n",
    "        draw(board)"
   ]
  },
  {
   "cell_type": "code",
   "execution_count": 5,
   "metadata": {},
   "outputs": [
    {
     "name": "stdout",
     "output_type": "stream",
     "text": [
      "+---+---+---+---+\n",
      "|   | Q |   |   |\n",
      "+---+---+---+---+\n",
      "|   |   |   | Q |\n",
      "+---+---+---+---+\n",
      "| Q |   |   |   |\n",
      "+---+---+---+---+\n",
      "|   |   | Q |   |\n",
      "+---+---+---+---+\n",
      "+---+---+---+---+\n",
      "|   |   | Q |   |\n",
      "+---+---+---+---+\n",
      "| Q |   |   |   |\n",
      "+---+---+---+---+\n",
      "|   |   |   | Q |\n",
      "+---+---+---+---+\n",
      "|   | Q |   |   |\n",
      "+---+---+---+---+\n"
     ]
    }
   ],
   "source": [
    "n = 4\n",
    "board = [-1]*n\n",
    "nqueens(board, 0)"
   ]
  },
  {
   "cell_type": "code",
   "execution_count": 15,
   "metadata": {},
   "outputs": [
    {
     "name": "stdout",
     "output_type": "stream",
     "text": [
      "hola hola hola hola hola \n"
     ]
    }
   ],
   "source": [
    "print(\"hola \"*5)"
   ]
  },
  {
   "cell_type": "code",
   "execution_count": 21,
   "metadata": {},
   "outputs": [
    {
     "name": "stdout",
     "output_type": "stream",
     "text": [
      "1  5.600000  hola\n"
     ]
    }
   ],
   "source": [
    "print(\"%d  %f  %s\"%(1, 5.6, \"hola\"))"
   ]
  }
 ],
 "metadata": {
  "kernelspec": {
   "display_name": "Python 3",
   "language": "python",
   "name": "python3"
  },
  "language_info": {
   "codemirror_mode": {
    "name": "ipython",
    "version": 3
   },
   "file_extension": ".py",
   "mimetype": "text/x-python",
   "name": "python",
   "nbconvert_exporter": "python",
   "pygments_lexer": "ipython3",
   "version": "3.7.4"
  }
 },
 "nbformat": 4,
 "nbformat_minor": 4
}
