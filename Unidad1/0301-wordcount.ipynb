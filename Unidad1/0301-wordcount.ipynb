{
 "cells": [
  {
   "cell_type": "code",
   "execution_count": 7,
   "metadata": {},
   "outputs": [],
   "source": [
    "def wordCountInLine(line):\n",
    "    line = line.strip()\n",
    "    c = 1\n",
    "    for ch in line:\n",
    "        if ch == ' ':\n",
    "            c += 1\n",
    "    return c"
   ]
  },
  {
   "cell_type": "code",
   "execution_count": 5,
   "metadata": {},
   "outputs": [],
   "source": [
    "def wordCount(text, i, f):\n",
    "    if i == f:\n",
    "        return wordCountInLine(text[i])\n",
    "    else:\n",
    "        m = (i + f) // 2\n",
    "        return wordCount(text, i, m) + wordCount(text, m+1, f)"
   ]
  },
  {
   "cell_type": "code",
   "execution_count": 9,
   "metadata": {},
   "outputs": [
    {
     "name": "stdout",
     "output_type": "stream",
     "text": [
      "131\n"
     ]
    }
   ],
   "source": [
    "with open('spam.txt') as file:\n",
    "    text = file.read()\n",
    "    text = text.strip().split('\\n')\n",
    "    print(wordCount(text, 0, len(text) - 1))"
   ]
  },
  {
   "cell_type": "code",
   "execution_count": null,
   "metadata": {},
   "outputs": [],
   "source": []
  }
 ],
 "metadata": {
  "kernelspec": {
   "display_name": "Python 3",
   "language": "python",
   "name": "python3"
  },
  "language_info": {
   "codemirror_mode": {
    "name": "ipython",
    "version": 3
   },
   "file_extension": ".py",
   "mimetype": "text/x-python",
   "name": "python",
   "nbconvert_exporter": "python",
   "pygments_lexer": "ipython3",
   "version": "3.7.4"
  }
 },
 "nbformat": 4,
 "nbformat_minor": 4
}
