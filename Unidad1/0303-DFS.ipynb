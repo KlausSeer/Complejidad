{
 "cells": [
  {
   "cell_type": "code",
   "execution_count": 12,
   "metadata": {},
   "outputs": [],
   "source": [
    "def dfs(G, s):\n",
    "    n = len(G)\n",
    "    path = [None]*n\n",
    "    visited = [False]*n\n",
    "    stack = [s]\n",
    "    while len(stack) > 0:\n",
    "        u = stack.pop()\n",
    "        if visited[u]: continue\n",
    "        visited[u] = True\n",
    "        for v in reversed(G[u]):\n",
    "            if not visited[v]:\n",
    "                stack.append(v)\n",
    "                path[v] = u\n",
    "    return path"
   ]
  },
  {
   "cell_type": "code",
   "execution_count": 13,
   "metadata": {},
   "outputs": [],
   "source": [
    "G = [[3],\n",
    "     [3],\n",
    "     [],\n",
    "     [5, 7],\n",
    "     [6],\n",
    "     [6, 7],\n",
    "     [2, 4, 7],\n",
    "     []]"
   ]
  },
  {
   "cell_type": "code",
   "execution_count": 14,
   "metadata": {},
   "outputs": [
    {
     "data": {
      "text/plain": [
       "[None, None, 6, 0, 6, 3, 5, 6]"
      ]
     },
     "execution_count": 14,
     "metadata": {},
     "output_type": "execute_result"
    }
   ],
   "source": [
    "dfs(G, 0)"
   ]
  },
  {
   "cell_type": "code",
   "execution_count": 23,
   "metadata": {},
   "outputs": [],
   "source": [
    "def dfs(G, s, t):\n",
    "    n = len(G)\n",
    "    path = [None]*n\n",
    "    visited = [False]*n\n",
    "    \n",
    "    def dfs_r(G, u, t):\n",
    "        if not visited[u]:\n",
    "            visited[u] = True\n",
    "            if u == t:\n",
    "                return\n",
    "            for v in G[u]:\n",
    "                if not visited[v]:\n",
    "                    path[v] = u\n",
    "                    dfs_r(G, v)\n",
    "                \n",
    "    dfs_r(G, s, t)\n",
    "    return path"
   ]
  },
  {
   "cell_type": "code",
   "execution_count": 24,
   "metadata": {},
   "outputs": [
    {
     "data": {
      "text/plain": [
       "[None, None, 6, 0, 6, 3, 5, 6]"
      ]
     },
     "execution_count": 24,
     "metadata": {},
     "output_type": "execute_result"
    }
   ],
   "source": [
    "dfs(G, 0)"
   ]
  },
  {
   "cell_type": "code",
   "execution_count": null,
   "metadata": {},
   "outputs": [],
   "source": []
  }
 ],
 "metadata": {
  "kernelspec": {
   "display_name": "Python 3",
   "language": "python",
   "name": "python3"
  },
  "language_info": {
   "codemirror_mode": {
    "name": "ipython",
    "version": 3
   },
   "file_extension": ".py",
   "mimetype": "text/x-python",
   "name": "python",
   "nbconvert_exporter": "python",
   "pygments_lexer": "ipython3",
   "version": "3.7.4"
  }
 },
 "nbformat": 4,
 "nbformat_minor": 4
}
