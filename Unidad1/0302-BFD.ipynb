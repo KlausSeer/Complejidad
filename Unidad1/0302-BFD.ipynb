{
 "cells": [
  {
   "cell_type": "code",
   "execution_count": 4,
   "metadata": {},
   "outputs": [],
   "source": [
    "def bfs(G, s):\n",
    "    n = len(G)\n",
    "    path = [None]*n\n",
    "    visited = [False]*n\n",
    "    queue = [s]\n",
    "    visited[s] = True\n",
    "    while len(queue) > 0:\n",
    "        u = queue[0]\n",
    "        queue = queue[1:]\n",
    "        for v in G[u]:\n",
    "            if not visited[v]:\n",
    "                queue.append(v)\n",
    "                path[v] = u\n",
    "                visited[v] = True\n",
    "    return path"
   ]
  },
  {
   "cell_type": "code",
   "execution_count": 2,
   "metadata": {},
   "outputs": [],
   "source": [
    "G = [[3],\n",
    "     [3],\n",
    "     [],\n",
    "     [5, 7],\n",
    "     [6],\n",
    "     [6, 7],\n",
    "     [2, 4, 7],\n",
    "     []]"
   ]
  },
  {
   "cell_type": "code",
   "execution_count": 5,
   "metadata": {},
   "outputs": [
    {
     "data": {
      "text/plain": [
       "[None, None, 6, 0, 6, 3, 5, 3]"
      ]
     },
     "execution_count": 5,
     "metadata": {},
     "output_type": "execute_result"
    }
   ],
   "source": [
    "bfs(G, 0)"
   ]
  },
  {
   "cell_type": "code",
   "execution_count": null,
   "metadata": {},
   "outputs": [],
   "source": []
  }
 ],
 "metadata": {
  "kernelspec": {
   "display_name": "Python 3",
   "language": "python",
   "name": "python3"
  },
  "language_info": {
   "codemirror_mode": {
    "name": "ipython",
    "version": 3
   },
   "file_extension": ".py",
   "mimetype": "text/x-python",
   "name": "python",
   "nbconvert_exporter": "python",
   "pygments_lexer": "ipython3",
   "version": "3.7.3"
  }
 },
 "nbformat": 4,
 "nbformat_minor": 2
}
