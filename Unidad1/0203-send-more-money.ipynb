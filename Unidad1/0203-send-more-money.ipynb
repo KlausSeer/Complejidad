{
 "cells": [
  {
   "cell_type": "code",
   "execution_count": 6,
   "metadata": {},
   "outputs": [],
   "source": [
    "def tonum(word, ch2dig):\n",
    "    l = len(word)\n",
    "    num = 0\n",
    "    for ch in word:\n",
    "        l = l - 1\n",
    "        num += 10**l * ch2dig[ch]\n",
    "    return num"
   ]
  },
  {
   "cell_type": "code",
   "execution_count": 16,
   "metadata": {},
   "outputs": [],
   "source": [
    "def solve(a, b, c, chars, digs, ch2dig):\n",
    "    n = len(chars)\n",
    "    if n == 0:\n",
    "        na = tonum(a, ch2dig)\n",
    "        nb = tonum(b, ch2dig)\n",
    "        nc = tonum(c, ch2dig)\n",
    "        return na + nb == nc\n",
    "    else:\n",
    "        char = chars[-1]\n",
    "        for i in range(len(digs)):\n",
    "            ch2dig[char] = digs[i]\n",
    "            if solve(a, b, c, chars[:n-1], digs[:i]+digs[i+1:], ch2dig):\n",
    "                #print(ch2dig)\n",
    "                na = tonum(a, ch2dig)\n",
    "                nb = tonum(b, ch2dig)\n",
    "                nc = tonum(c, ch2dig)\n",
    "                print(na, nb, nc)\n",
    "                return True\n",
    "        return False"
   ]
  },
  {
   "cell_type": "code",
   "execution_count": 22,
   "metadata": {},
   "outputs": [
    {
     "name": "stdout",
     "output_type": "stream",
     "text": [
      "['D', 'M', 'N', 'R', 'E', 'S', 'O', 'Y']\n"
     ]
    }
   ],
   "source": [
    "\"\"\"\n",
    "SEND + MORE = MONEY\n",
    "\"\"\"\n",
    "a = 'SEND'\n",
    "b = 'MORE'\n",
    "c = 'MONEY'\n",
    "#chars = {ch:-1 for ch in (a + b + c)}\n",
    "chars = list(set(ch for ch in (a + b + c)))\n",
    "print(chars)"
   ]
  },
  {
   "cell_type": "code",
   "execution_count": 24,
   "metadata": {},
   "outputs": [
    {
     "name": "stdout",
     "output_type": "stream",
     "text": [
      "6853 728 7581\n",
      "6853 728 7581\n",
      "6853 728 7581\n",
      "6853 728 7581\n",
      "6853 728 7581\n",
      "6853 728 7581\n",
      "6853 728 7581\n",
      "6853 728 7581\n"
     ]
    },
    {
     "data": {
      "text/plain": [
       "True"
      ]
     },
     "execution_count": 24,
     "metadata": {},
     "output_type": "execute_result"
    }
   ],
   "source": [
    "solve(a, b, c, chars, [i for i in range(10)], {})"
   ]
  },
  {
   "cell_type": "code",
   "execution_count": null,
   "metadata": {},
   "outputs": [],
   "source": []
  }
 ],
 "metadata": {
  "kernelspec": {
   "display_name": "Python 3",
   "language": "python",
   "name": "python3"
  },
  "language_info": {
   "codemirror_mode": {
    "name": "ipython",
    "version": 3
   },
   "file_extension": ".py",
   "mimetype": "text/x-python",
   "name": "python",
   "nbconvert_exporter": "python",
   "pygments_lexer": "ipython3",
   "version": "3.7.4"
  }
 },
 "nbformat": 4,
 "nbformat_minor": 4
}
