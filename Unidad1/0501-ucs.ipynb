{
 "cells": [
  {
   "cell_type": "code",
   "execution_count": 5,
   "metadata": {},
   "outputs": [],
   "source": [
    "import heapq as hq\n",
    "import math"
   ]
  },
  {
   "cell_type": "code",
   "execution_count": 28,
   "metadata": {},
   "outputs": [],
   "source": [
    "def ucs(G, s, t):\n",
    "    n = len(G)\n",
    "    visited = [False]*n\n",
    "    weight  = [math.inf]*n\n",
    "    path    = [None]*n\n",
    "    queue   = []\n",
    "    \n",
    "    hq.heappush(queue, (0, s))\n",
    "    weight[s] = 0\n",
    "    \n",
    "    while len(queue) > 0:\n",
    "        g, u = hq.heappop(queue)\n",
    "        if visited[u]:\n",
    "            continue\n",
    "        if u == t:\n",
    "            break\n",
    "        visited[u] = True\n",
    "        for v, w in G[u]:\n",
    "            if not visited[v]:\n",
    "                f = g + w\n",
    "                if f < weight[v]:\n",
    "                    weight[v] = f\n",
    "                    path[v]   = u\n",
    "                    hq.heappush(queue, (f, v))\n",
    "                    \n",
    "    return path, weight"
   ]
  },
  {
   "cell_type": "code",
   "execution_count": 34,
   "metadata": {},
   "outputs": [],
   "source": [
    "G = [[(3, 10), (4, 1)],\n",
    "     [(3, 5), (4, 5)],\n",
    "     [(3, 4), (4, 15)],\n",
    "     [(0, 10), (1, 5), (2, 4)],\n",
    "     [(0, 1), (1, 5), (2, 15)]]"
   ]
  },
  {
   "cell_type": "code",
   "execution_count": 35,
   "metadata": {},
   "outputs": [],
   "source": [
    "path, weights = ucs(G, 4, 3)\n",
    "names = ['A', 'B', 'C', 'G', 'S']"
   ]
  },
  {
   "cell_type": "code",
   "execution_count": 26,
   "metadata": {},
   "outputs": [
    {
     "name": "stdout",
     "output_type": "stream",
     "text": [
      "G\n",
      "B\n",
      "S\n"
     ]
    }
   ],
   "source": [
    "last = 3\n",
    "while last != None:\n",
    "    print(names[last])\n",
    "    last = path[last]"
   ]
  },
  {
   "cell_type": "code",
   "execution_count": 27,
   "metadata": {},
   "outputs": [
    {
     "name": "stdout",
     "output_type": "stream",
     "text": [
      "[4, 4, 4, 1, None] [1, 5, 15, 10, 0]\n"
     ]
    }
   ],
   "source": [
    "print(path, weights)"
   ]
  },
  {
   "cell_type": "code",
   "execution_count": 36,
   "metadata": {},
   "outputs": [
    {
     "name": "stdout",
     "output_type": "stream",
     "text": [
      "[4, 4, 3, 1, None] [1, 5, 14, 10, 0]\n"
     ]
    }
   ],
   "source": [
    "print(path, weights)"
   ]
  },
  {
   "cell_type": "code",
   "execution_count": null,
   "metadata": {},
   "outputs": [],
   "source": []
  }
 ],
 "metadata": {
  "kernelspec": {
   "display_name": "Python 3",
   "language": "python",
   "name": "python3"
  },
  "language_info": {
   "codemirror_mode": {
    "name": "ipython",
    "version": 3
   },
   "file_extension": ".py",
   "mimetype": "text/x-python",
   "name": "python",
   "nbconvert_exporter": "python",
   "pygments_lexer": "ipython3",
   "version": "3.7.4"
  }
 },
 "nbformat": 4,
 "nbformat_minor": 4
}
